{
  "cells": [
    {
      "cell_type": "markdown",
      "metadata": {
        "id": "view-in-github",
        "colab_type": "text"
      },
      "source": [
        "<a href=\"https://colab.research.google.com/github/kibum99/swm_pitch/blob/main/pitch_detection.ipynb\" target=\"_parent\"><img src=\"https://colab.research.google.com/assets/colab-badge.svg\" alt=\"Open In Colab\"/></a>"
      ]
    },
    {
      "cell_type": "code",
      "execution_count": 1,
      "metadata": {
        "colab": {
          "base_uri": "https://localhost:8080/"
        },
        "id": "1_TDoLZF71Xy",
        "outputId": "9e49fddd-bd38-4214-bed2-91bcf4d44e61"
      },
      "outputs": [
        {
          "output_type": "stream",
          "name": "stdout",
          "text": [
            "Cloning into 'guess-your-song'...\n",
            "remote: Enumerating objects: 128, done.\u001b[K\n",
            "remote: Counting objects: 100% (128/128), done.\u001b[K\n",
            "remote: Compressing objects: 100% (60/60), done.\u001b[K\n",
            "remote: Total 128 (delta 60), reused 128 (delta 60), pack-reused 0\u001b[K\n",
            "Receiving objects: 100% (128/128), 310.74 KiB | 12.95 MiB/s, done.\n",
            "Resolving deltas: 100% (60/60), done.\n",
            "Looking in indexes: https://pypi.org/simple, https://us-python.pkg.dev/colab-wheels/public/simple/\n",
            "Collecting pydub\n",
            "  Downloading pydub-0.25.1-py2.py3-none-any.whl (32 kB)\n",
            "Installing collected packages: pydub\n",
            "Successfully installed pydub-0.25.1\n",
            "Looking in indexes: https://pypi.org/simple, https://us-python.pkg.dev/colab-wheels/public/simple/\n",
            "Collecting mido\n",
            "  Downloading mido-1.2.10-py2.py3-none-any.whl (51 kB)\n",
            "\u001b[K     |████████████████████████████████| 51 kB 5.9 MB/s \n",
            "\u001b[?25hInstalling collected packages: mido\n",
            "Successfully installed mido-1.2.10\n"
          ]
        }
      ],
      "source": [
        "!git clone https://github.com/tianyaqu/guess-your-song.git\n",
        "!pip install pydub\n",
        "!pip install mido"
      ]
    },
    {
      "cell_type": "code",
      "execution_count": 11,
      "metadata": {
        "colab": {
          "base_uri": "https://localhost:8080/"
        },
        "id": "EwF5jzfb8LiQ",
        "outputId": "0c4bd8bd-e134-4ad9-d02d-b18fb6bedf7c"
      },
      "outputs": [
        {
          "output_type": "stream",
          "name": "stdout",
          "text": [
            "보컬_빅나티 정이라고 하자  is loaded!\n",
            "보컬_멜로망스 사랑인가봐  is loaded!\n",
            "보컬_멜로망스 취중고백  is loaded!\n",
            "vocal1  is loaded!\n",
            "{'datasets/보컬_빅나티 정이라고 하자.wav': 1.3364555136682366, 'datasets/보컬_멜로망스 사랑인가봐.wav': 0.5628046546164641, 'datasets/보컬_멜로망스 취중고백.wav': 0.920727646298873}\n",
            "Traceback (most recent call last):\n",
            "  File \"guess-your-song/interface.py\", line 29, in <module>\n",
            "    # name,dis = query(db,pv)\n",
            "TypeError: cannot unpack non-iterable NoneType object\n"
          ]
        }
      ],
      "source": [
        "!python guess-your-song/interface.py"
      ]
    }
  ],
  "metadata": {
    "colab": {
      "collapsed_sections": [],
      "name": "pitch_detection",
      "provenance": [],
      "authorship_tag": "ABX9TyMGtwpP/A1lOaUSLoeFMHCQ",
      "include_colab_link": true
    },
    "kernelspec": {
      "display_name": "Python 3",
      "name": "python3"
    },
    "language_info": {
      "name": "python"
    }
  },
  "nbformat": 4,
  "nbformat_minor": 0
}